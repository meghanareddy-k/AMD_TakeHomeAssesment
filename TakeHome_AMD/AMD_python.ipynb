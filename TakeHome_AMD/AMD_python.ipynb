{
 "cells": [
  {
   "cell_type": "markdown",
   "id": "4969bb3b",
   "metadata": {},
   "source": [
    "## AMD Python Assessment"
   ]
  },
  {
   "cell_type": "markdown",
   "id": "e7113dca",
   "metadata": {},
   "source": [
    "### 1. Implement max() to return the max value from a list of integers using recursion\n",
    " Input = [1,2,3,4,5,6,7,8,9]\n",
    " Output = 9"
   ]
  },
  {
   "cell_type": "markdown",
   "id": "5b0332df",
   "metadata": {},
   "source": [
    "### Solution:"
   ]
  },
  {
   "cell_type": "code",
   "execution_count": 1,
   "id": "fec6f4f6",
   "metadata": {},
   "outputs": [
    {
     "name": "stdout",
     "output_type": "stream",
     "text": [
      "9\n"
     ]
    }
   ],
   "source": [
    "def findMax(list1, size):\n",
    "     \n",
    "    # if size = 0 means whole array\n",
    "    # has been traversed\n",
    "    if (size == 1):\n",
    "        return list1[0]\n",
    "    return max(list1[size - 1], findMax(list1, size - 1))\n",
    "list1 = [1,2,3,4,5,6,7,8,9]\n",
    "n = len(list1)\n",
    "print(findMax(list1, n))"
   ]
  },
  {
   "cell_type": "markdown",
   "id": "fff22cc3",
   "metadata": {},
   "source": [
    "### 2.Implement the below transformation on a JSON object\n"
   ]
  },
  {
   "cell_type": "markdown",
   "id": "f187a450",
   "metadata": {},
   "source": [
    "### Solution"
   ]
  },
  {
   "cell_type": "code",
   "execution_count": 2,
   "id": "14d5ddaf",
   "metadata": {},
   "outputs": [],
   "source": [
    "ip = {\n",
    "\"superheros\": [\n",
    "    { \"name\": \"batman\", \"id\": 1,  \"city\": \"gotham\" }, \n",
    "    { \"name\": \"spiderman\", \"id\": 2,  \"city\": \"NYC\" }, \n",
    "    { \"name\": \"superman\", \"id\": 2,  \"city\": \"NYC\" }\n",
    "] }\n",
    "\n"
   ]
  },
  {
   "cell_type": "code",
   "execution_count": 3,
   "id": "0c9315cd",
   "metadata": {},
   "outputs": [
    {
     "name": "stdout",
     "output_type": "stream",
     "text": [
      "{'superherosbyCity': [{'gotham': ['batman']}, {'NYC': ['spiderman', 'superman']}]}\n"
     ]
    }
   ],
   "source": [
    "hm = {}\n",
    "for v in ip['superheros']:\n",
    "    if v['city'] not in hm :\n",
    "        hm[v['city']] = [v['name']]\n",
    "    else :\n",
    "        hm[v['city']].append(v['name'])\n",
    "\n",
    "hm_list = []\n",
    "for i in hm:\n",
    "    hm_list.append({i : hm[i]})\n",
    "\n",
    "op = {}\n",
    "op['superherosbyCity'] = hm_list\n",
    "print(op)"
   ]
  },
  {
   "cell_type": "markdown",
   "id": "8092c89b",
   "metadata": {},
   "source": [
    "### 3. Implement a python recursive function which accepts a string and yields the output as below\n",
    " Input=\"123R456\"\n",
    " output=[(1,6),(2,5),(3,4),(R,)]"
   ]
  },
  {
   "cell_type": "markdown",
   "id": "0a432743",
   "metadata": {},
   "source": [
    "### Solution"
   ]
  },
  {
   "cell_type": "code",
   "execution_count": 7,
   "id": "fdb68d00",
   "metadata": {},
   "outputs": [
    {
     "name": "stdout",
     "output_type": "stream",
     "text": [
      "[('1', '6'), ('2', '5'), ('3', '4'), ('R',)]\n"
     ]
    }
   ],
   "source": [
    "inp = '123R456'\n",
    "op = []\n",
    "def charPair(i,j):\n",
    "    if i > j : return\n",
    "    if i == j : \n",
    "        op.append((inp[i],))\n",
    "        return\n",
    "\n",
    "\n",
    "    op.append((inp[i],inp[j]))\n",
    "    charPair(i+1,j-1)\n",
    "\n",
    "charPair(0,len(inp)-1)\n",
    "print(op)"
   ]
  },
  {
   "cell_type": "code",
   "execution_count": null,
   "id": "afdac2ad",
   "metadata": {},
   "outputs": [],
   "source": []
  }
 ],
 "metadata": {
  "kernelspec": {
   "display_name": "Python 3 (ipykernel)",
   "language": "python",
   "name": "python3"
  },
  "language_info": {
   "codemirror_mode": {
    "name": "ipython",
    "version": 3
   },
   "file_extension": ".py",
   "mimetype": "text/x-python",
   "name": "python",
   "nbconvert_exporter": "python",
   "pygments_lexer": "ipython3",
   "version": "3.7.11"
  }
 },
 "nbformat": 4,
 "nbformat_minor": 5
}
